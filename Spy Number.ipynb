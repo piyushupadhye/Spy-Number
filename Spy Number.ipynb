{
 "cells": [
  {
   "cell_type": "code",
   "execution_count": 52,
   "id": "ee783b40",
   "metadata": {},
   "outputs": [],
   "source": [
    "def isspy(num):\n",
    "    sum = 0\n",
    "    product = 1\n",
    "    while num>0:\n",
    "        digit = num%10\n",
    "    \n",
    "        sum = sum+digit\n",
    "        product = product*digit\n",
    "        \n",
    "        num = num//10\n",
    "    if sum == product:\n",
    "        return True\n",
    "    else:\n",
    "        return False    "
   ]
  },
  {
   "cell_type": "code",
   "execution_count": 56,
   "id": "8d22c175",
   "metadata": {},
   "outputs": [
    {
     "data": {
      "text/plain": [
       "[123, 132, 213, 231, 312, 321]"
      ]
     },
     "execution_count": 56,
     "metadata": {},
     "output_type": "execute_result"
    }
   ],
   "source": [
    "B = [i for i in range(100,501) if isspy(i)==True]\n",
    "B"
   ]
  }
 ],
 "metadata": {
  "kernelspec": {
   "display_name": "Python 3 (ipykernel)",
   "language": "python",
   "name": "python3"
  },
  "language_info": {
   "codemirror_mode": {
    "name": "ipython",
    "version": 3
   },
   "file_extension": ".py",
   "mimetype": "text/x-python",
   "name": "python",
   "nbconvert_exporter": "python",
   "pygments_lexer": "ipython3",
   "version": "3.9.7"
  }
 },
 "nbformat": 4,
 "nbformat_minor": 5
}
